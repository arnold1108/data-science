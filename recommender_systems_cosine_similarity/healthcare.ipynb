{
 "cells": [
  {
   "attachments": {},
   "cell_type": "markdown",
   "metadata": {},
   "source": [
    "## Recommender System for Matching HealthCare Professionals with Jobs Using Cosine Similarity"
   ]
  },
  {
   "attachments": {},
   "cell_type": "markdown",
   "metadata": {},
   "source": [
    "### Importing the relevant packages"
   ]
  },
  {
   "cell_type": "code",
   "execution_count": 1,
   "metadata": {},
   "outputs": [],
   "source": [
    "import pandas as pd\n",
    "import numpy as np\n",
    "import random #for generating random numbers"
   ]
  },
  {
   "attachments": {},
   "cell_type": "markdown",
   "metadata": {},
   "source": [
    "### Generating a synthetic data.\n",
    "In this data, we will use syntheric data with 2000 professionals and 500 different jobs, using the random package"
   ]
  },
  {
   "cell_type": "code",
   "execution_count": 2,
   "metadata": {},
   "outputs": [],
   "source": [
    "# Defining the parameters to randomize the synthetic data\n",
    "num_professionals = 2000\n",
    "num_jobs = 500"
   ]
  },
  {
   "cell_type": "code",
   "execution_count": 3,
   "metadata": {},
   "outputs": [],
   "source": [
    "# Defining the variables \n",
    "skills = ['nursing', 'physician', 'radiology', 'pharmacy', 'lab']\n",
    "locations = ['New York', 'Los Angeles', 'Chicago', 'Houston', 'Philadelphia']\n",
    "certifications = ['BLS', 'ACLS', 'PALS', 'CPR', 'NRP']\n",
    "education = ['Associate', 'Bachelor', 'Master', 'Doctorate']\n",
    "work_preferences = ['part-time', 'full-time', 'day shift', 'night shift']\n",
    "skill_levels = ['entry-level', 'intermediate', 'advanced']\n",
    "max_experience_years = 30"
   ]
  },
  {
   "cell_type": "code",
   "execution_count": 4,
   "metadata": {},
   "outputs": [
    {
     "data": {
      "text/html": [
       "<div>\n",
       "<style scoped>\n",
       "    .dataframe tbody tr th:only-of-type {\n",
       "        vertical-align: middle;\n",
       "    }\n",
       "\n",
       "    .dataframe tbody tr th {\n",
       "        vertical-align: top;\n",
       "    }\n",
       "\n",
       "    .dataframe thead th {\n",
       "        text-align: right;\n",
       "    }\n",
       "</style>\n",
       "<table border=\"1\" class=\"dataframe\">\n",
       "  <thead>\n",
       "    <tr style=\"text-align: right;\">\n",
       "      <th></th>\n",
       "      <th>id</th>\n",
       "      <th>skills</th>\n",
       "      <th>location</th>\n",
       "      <th>certification</th>\n",
       "      <th>education</th>\n",
       "      <th>skill_level</th>\n",
       "      <th>work_preference</th>\n",
       "      <th>experience</th>\n",
       "    </tr>\n",
       "  </thead>\n",
       "  <tbody>\n",
       "    <tr>\n",
       "      <th>208</th>\n",
       "      <td>(209,)</td>\n",
       "      <td>(nursing,)</td>\n",
       "      <td>(New York,)</td>\n",
       "      <td>([PALS, BLS],)</td>\n",
       "      <td>(Doctorate,)</td>\n",
       "      <td>(intermediate,)</td>\n",
       "      <td>(full-time,)</td>\n",
       "      <td>(20,)</td>\n",
       "    </tr>\n",
       "    <tr>\n",
       "      <th>1890</th>\n",
       "      <td>(1891,)</td>\n",
       "      <td>(nursing,)</td>\n",
       "      <td>(New York,)</td>\n",
       "      <td>([PALS, CPR, BLS, ACLS],)</td>\n",
       "      <td>(Doctorate,)</td>\n",
       "      <td>(intermediate,)</td>\n",
       "      <td>(day shift,)</td>\n",
       "      <td>(25,)</td>\n",
       "    </tr>\n",
       "    <tr>\n",
       "      <th>1143</th>\n",
       "      <td>(1144,)</td>\n",
       "      <td>(nursing,)</td>\n",
       "      <td>(New York,)</td>\n",
       "      <td>([PALS, CPR, ACLS],)</td>\n",
       "      <td>(Doctorate,)</td>\n",
       "      <td>(intermediate,)</td>\n",
       "      <td>(part-time,)</td>\n",
       "      <td>(7,)</td>\n",
       "    </tr>\n",
       "    <tr>\n",
       "      <th>767</th>\n",
       "      <td>(768,)</td>\n",
       "      <td>(nursing,)</td>\n",
       "      <td>(Philadelphia,)</td>\n",
       "      <td>([PALS, NRP],)</td>\n",
       "      <td>(Doctorate,)</td>\n",
       "      <td>(intermediate,)</td>\n",
       "      <td>(part-time,)</td>\n",
       "      <td>(26,)</td>\n",
       "    </tr>\n",
       "    <tr>\n",
       "      <th>1269</th>\n",
       "      <td>(1270,)</td>\n",
       "      <td>(nursing,)</td>\n",
       "      <td>(New York,)</td>\n",
       "      <td>([BLS],)</td>\n",
       "      <td>(Doctorate,)</td>\n",
       "      <td>(advanced,)</td>\n",
       "      <td>(full-time,)</td>\n",
       "      <td>(15,)</td>\n",
       "    </tr>\n",
       "  </tbody>\n",
       "</table>\n",
       "</div>"
      ],
      "text/plain": [
       "           id      skills         location              certification  \\\n",
       "208    (209,)  (nursing,)      (New York,)             ([PALS, BLS],)   \n",
       "1890  (1891,)  (nursing,)      (New York,)  ([PALS, CPR, BLS, ACLS],)   \n",
       "1143  (1144,)  (nursing,)      (New York,)       ([PALS, CPR, ACLS],)   \n",
       "767    (768,)  (nursing,)  (Philadelphia,)             ([PALS, NRP],)   \n",
       "1269  (1270,)  (nursing,)      (New York,)                   ([BLS],)   \n",
       "\n",
       "         education      skill_level work_preference experience  \n",
       "208   (Doctorate,)  (intermediate,)    (full-time,)      (20,)  \n",
       "1890  (Doctorate,)  (intermediate,)    (day shift,)      (25,)  \n",
       "1143  (Doctorate,)  (intermediate,)    (part-time,)       (7,)  \n",
       "767   (Doctorate,)  (intermediate,)    (part-time,)      (26,)  \n",
       "1269  (Doctorate,)      (advanced,)    (full-time,)      (15,)  "
      ]
     },
     "execution_count": 4,
     "metadata": {},
     "output_type": "execute_result"
    }
   ],
   "source": [
    "# Generating synnthetic data for the job healthcare professionals \n",
    "professionals_df = pd.DataFrame(columns=['id', 'skills', 'location', 'certification', 'education', 'skill_level', 'work_preference', 'experience' ])\n",
    "for i in range(num_professionals):\n",
    "    id = i + 1,\n",
    "    skills = random.choice(skills),\n",
    "    location = random.choice(locations),\n",
    "    certification = random.sample(certifications, random.randint(1, len(certifications))),\n",
    "    education = random.choice(education),\n",
    "    work_preference = random.choice(work_preferences),\n",
    "    experience = random.randint(1, max_experience_years),\n",
    "    skill_level = random.choice(skill_levels),\n",
    "    professionals_df.loc[i] = [id, skills, location, certification, education, skill_level, work_preference, experience]\n",
    "professionals_df.sample(5)\n",
    "    \n",
    "    "
   ]
  },
  {
   "attachments": {},
   "cell_type": "markdown",
   "metadata": {},
   "source": [
    "The dataset looks ugly with the commas and the parentheses. Let us create a function to remove them"
   ]
  },
  {
   "cell_type": "code",
   "execution_count": 5,
   "metadata": {},
   "outputs": [
    {
     "data": {
      "text/html": [
       "<div>\n",
       "<style scoped>\n",
       "    .dataframe tbody tr th:only-of-type {\n",
       "        vertical-align: middle;\n",
       "    }\n",
       "\n",
       "    .dataframe tbody tr th {\n",
       "        vertical-align: top;\n",
       "    }\n",
       "\n",
       "    .dataframe thead th {\n",
       "        text-align: right;\n",
       "    }\n",
       "</style>\n",
       "<table border=\"1\" class=\"dataframe\">\n",
       "  <thead>\n",
       "    <tr style=\"text-align: right;\">\n",
       "      <th></th>\n",
       "      <th>id</th>\n",
       "      <th>skills</th>\n",
       "      <th>location</th>\n",
       "      <th>certification</th>\n",
       "      <th>education</th>\n",
       "      <th>skill_level</th>\n",
       "      <th>work_preference</th>\n",
       "      <th>experience</th>\n",
       "    </tr>\n",
       "  </thead>\n",
       "  <tbody>\n",
       "    <tr>\n",
       "      <th>1970</th>\n",
       "      <td>1971</td>\n",
       "      <td>nursing</td>\n",
       "      <td>Chicago</td>\n",
       "      <td>NRP PALS</td>\n",
       "      <td>Doctorate</td>\n",
       "      <td>intermediate</td>\n",
       "      <td>part-time</td>\n",
       "      <td>7</td>\n",
       "    </tr>\n",
       "    <tr>\n",
       "      <th>318</th>\n",
       "      <td>319</td>\n",
       "      <td>nursing</td>\n",
       "      <td>New York</td>\n",
       "      <td>CPR NRP PALS ACLS</td>\n",
       "      <td>Doctorate</td>\n",
       "      <td>entry-level</td>\n",
       "      <td>day shift</td>\n",
       "      <td>3</td>\n",
       "    </tr>\n",
       "    <tr>\n",
       "      <th>1849</th>\n",
       "      <td>1850</td>\n",
       "      <td>nursing</td>\n",
       "      <td>Los Angeles</td>\n",
       "      <td>CPR NRP PALS BLS ACLS</td>\n",
       "      <td>Doctorate</td>\n",
       "      <td>intermediate</td>\n",
       "      <td>part-time</td>\n",
       "      <td>18</td>\n",
       "    </tr>\n",
       "    <tr>\n",
       "      <th>1406</th>\n",
       "      <td>1407</td>\n",
       "      <td>nursing</td>\n",
       "      <td>Houston</td>\n",
       "      <td>NRP CPR BLS</td>\n",
       "      <td>Doctorate</td>\n",
       "      <td>intermediate</td>\n",
       "      <td>day shift</td>\n",
       "      <td>10</td>\n",
       "    </tr>\n",
       "    <tr>\n",
       "      <th>798</th>\n",
       "      <td>799</td>\n",
       "      <td>nursing</td>\n",
       "      <td>Los Angeles</td>\n",
       "      <td>ACLS</td>\n",
       "      <td>Doctorate</td>\n",
       "      <td>intermediate</td>\n",
       "      <td>day shift</td>\n",
       "      <td>18</td>\n",
       "    </tr>\n",
       "  </tbody>\n",
       "</table>\n",
       "</div>"
      ],
      "text/plain": [
       "        id   skills     location          certification  education  \\\n",
       "1970  1971  nursing      Chicago               NRP PALS  Doctorate   \n",
       "318    319  nursing     New York      CPR NRP PALS ACLS  Doctorate   \n",
       "1849  1850  nursing  Los Angeles  CPR NRP PALS BLS ACLS  Doctorate   \n",
       "1406  1407  nursing      Houston            NRP CPR BLS  Doctorate   \n",
       "798    799  nursing  Los Angeles                   ACLS  Doctorate   \n",
       "\n",
       "       skill_level work_preference experience  \n",
       "1970  intermediate       part-time          7  \n",
       "318    entry-level       day shift          3  \n",
       "1849  intermediate       part-time         18  \n",
       "1406  intermediate       day shift         10  \n",
       "798   intermediate       day shift         18  "
      ]
     },
     "execution_count": 5,
     "metadata": {},
     "output_type": "execute_result"
    }
   ],
   "source": [
    "def clean_tuple(t):\n",
    "    return str(t).replace(\"(\", \"\").replace(\",\", \"\").replace(\")\", \"\").replace(\"'\", \"\").replace(\"[\", \"\").replace(\"]\", \"\")\n",
    "professionals_df = professionals_df.applymap(clean_tuple)\n",
    "professionals_df.sample(5)"
   ]
  },
  {
   "attachments": {},
   "cell_type": "markdown",
   "metadata": {},
   "source": [
    "The dataset looks cleaner, so let us to the same for the jobs dataframe"
   ]
  },
  {
   "cell_type": "code",
   "execution_count": 22,
   "metadata": {},
   "outputs": [
    {
     "data": {
      "text/html": [
       "<div>\n",
       "<style scoped>\n",
       "    .dataframe tbody tr th:only-of-type {\n",
       "        vertical-align: middle;\n",
       "    }\n",
       "\n",
       "    .dataframe tbody tr th {\n",
       "        vertical-align: top;\n",
       "    }\n",
       "\n",
       "    .dataframe thead th {\n",
       "        text-align: right;\n",
       "    }\n",
       "</style>\n",
       "<table border=\"1\" class=\"dataframe\">\n",
       "  <thead>\n",
       "    <tr style=\"text-align: right;\">\n",
       "      <th></th>\n",
       "      <th>id</th>\n",
       "      <th>skills</th>\n",
       "      <th>location</th>\n",
       "      <th>certification_required</th>\n",
       "      <th>education_required</th>\n",
       "      <th>skill_level_required</th>\n",
       "      <th>work_preference</th>\n",
       "      <th>experience_required</th>\n",
       "    </tr>\n",
       "  </thead>\n",
       "  <tbody>\n",
       "    <tr>\n",
       "      <th>335</th>\n",
       "      <td>336</td>\n",
       "      <td>nursing</td>\n",
       "      <td>Los Angeles</td>\n",
       "      <td>ACLS CPR BLS NRP PALS</td>\n",
       "      <td>Doctorate</td>\n",
       "      <td>intermediate</td>\n",
       "      <td>day shift</td>\n",
       "      <td>10</td>\n",
       "    </tr>\n",
       "    <tr>\n",
       "      <th>185</th>\n",
       "      <td>186</td>\n",
       "      <td>nursing</td>\n",
       "      <td>Los Angeles</td>\n",
       "      <td>ACLS NRP PALS CPR BLS</td>\n",
       "      <td>Doctorate</td>\n",
       "      <td>advanced</td>\n",
       "      <td>day shift</td>\n",
       "      <td>1</td>\n",
       "    </tr>\n",
       "    <tr>\n",
       "      <th>373</th>\n",
       "      <td>374</td>\n",
       "      <td>nursing</td>\n",
       "      <td>Chicago</td>\n",
       "      <td>NRP ACLS BLS</td>\n",
       "      <td>Doctorate</td>\n",
       "      <td>advanced</td>\n",
       "      <td>part-time</td>\n",
       "      <td>6</td>\n",
       "    </tr>\n",
       "    <tr>\n",
       "      <th>476</th>\n",
       "      <td>477</td>\n",
       "      <td>nursing</td>\n",
       "      <td>Houston</td>\n",
       "      <td>CPR NRP</td>\n",
       "      <td>Doctorate</td>\n",
       "      <td>advanced</td>\n",
       "      <td>part-time</td>\n",
       "      <td>15</td>\n",
       "    </tr>\n",
       "    <tr>\n",
       "      <th>166</th>\n",
       "      <td>167</td>\n",
       "      <td>nursing</td>\n",
       "      <td>New York</td>\n",
       "      <td>PALS BLS</td>\n",
       "      <td>Doctorate</td>\n",
       "      <td>intermediate</td>\n",
       "      <td>full-time</td>\n",
       "      <td>25</td>\n",
       "    </tr>\n",
       "  </tbody>\n",
       "</table>\n",
       "</div>"
      ],
      "text/plain": [
       "      id   skills     location certification_required education_required  \\\n",
       "335  336  nursing  Los Angeles  ACLS CPR BLS NRP PALS          Doctorate   \n",
       "185  186  nursing  Los Angeles  ACLS NRP PALS CPR BLS          Doctorate   \n",
       "373  374  nursing      Chicago           NRP ACLS BLS          Doctorate   \n",
       "476  477  nursing      Houston                CPR NRP          Doctorate   \n",
       "166  167  nursing     New York               PALS BLS          Doctorate   \n",
       "\n",
       "    skill_level_required work_preference experience_required  \n",
       "335         intermediate       day shift                  10  \n",
       "185             advanced       day shift                   1  \n",
       "373             advanced       part-time                   6  \n",
       "476             advanced       part-time                  15  \n",
       "166         intermediate       full-time                  25  "
      ]
     },
     "execution_count": 22,
     "metadata": {},
     "output_type": "execute_result"
    }
   ],
   "source": [
    "jobs_df = pd.DataFrame(columns=['id', 'skills', 'location', 'certification_required', 'education_required', 'skill_level_required', 'work_preference', 'experience_required' ])\n",
    "for i in range(num_jobs):\n",
    "    id = i + 1,\n",
    "    skills = random.choice(skills),\n",
    "    location = random.choice(locations),\n",
    "    certification = random.sample(certifications, random.randint(1, len(certifications))),\n",
    "    education = random.choice(education),\n",
    "    work_preference = random.choice(work_preferences),\n",
    "    experience = random.randint(1, max_experience_years),\n",
    "    skill_level = random.choice(skill_levels),\n",
    "    jobs_df.loc[i] = [id, skills, location, certification, education, skill_level, work_preference, experience]\n",
    "    \n",
    "jobs_df = jobs_df.applymap(clean_tuple)\n",
    "jobs_df.sample(5)\n",
    "    "
   ]
  },
  {
   "cell_type": "code",
   "execution_count": 23,
   "metadata": {},
   "outputs": [
    {
     "data": {
      "text/plain": [
       "((500, 8), (2000, 8))"
      ]
     },
     "execution_count": 23,
     "metadata": {},
     "output_type": "execute_result"
    }
   ],
   "source": [
    "jobs_df.shape, professionals_df.shape"
   ]
  },
  {
   "attachments": {},
   "cell_type": "markdown",
   "metadata": {},
   "source": [
    "### Exploratory Data Analysis\n",
    "Now that we have two datasets, let us now proceed to explore it"
   ]
  },
  {
   "cell_type": "code",
   "execution_count": 24,
   "metadata": {},
   "outputs": [
    {
     "name": "stdout",
     "output_type": "stream",
     "text": [
      "<class 'pandas.core.frame.DataFrame'>\n",
      "Int64Index: 2000 entries, 0 to 1999\n",
      "Data columns (total 8 columns):\n",
      " #   Column           Non-Null Count  Dtype \n",
      "---  ------           --------------  ----- \n",
      " 0   id               2000 non-null   int64 \n",
      " 1   skills           2000 non-null   object\n",
      " 2   location         2000 non-null   object\n",
      " 3   certification    2000 non-null   object\n",
      " 4   education        2000 non-null   object\n",
      " 5   skill_level      2000 non-null   object\n",
      " 6   work_preference  2000 non-null   object\n",
      " 7   experience       2000 non-null   int64 \n",
      "dtypes: int64(2), object(6)\n",
      "memory usage: 140.6+ KB\n"
     ]
    }
   ],
   "source": [
    "professionals_df.info()"
   ]
  },
  {
   "attachments": {},
   "cell_type": "markdown",
   "metadata": {},
   "source": [
    "We need the id and the experience to be integers as seen in our dataframe\n"
   ]
  },
  {
   "cell_type": "code",
   "execution_count": 9,
   "metadata": {},
   "outputs": [
    {
     "name": "stdout",
     "output_type": "stream",
     "text": [
      "<class 'pandas.core.frame.DataFrame'>\n",
      "Int64Index: 2000 entries, 0 to 1999\n",
      "Data columns (total 8 columns):\n",
      " #   Column           Non-Null Count  Dtype \n",
      "---  ------           --------------  ----- \n",
      " 0   id               2000 non-null   int64 \n",
      " 1   skills           2000 non-null   object\n",
      " 2   location         2000 non-null   object\n",
      " 3   certification    2000 non-null   object\n",
      " 4   education        2000 non-null   object\n",
      " 5   skill_level      2000 non-null   object\n",
      " 6   work_preference  2000 non-null   object\n",
      " 7   experience       2000 non-null   int64 \n",
      "dtypes: int64(2), object(6)\n",
      "memory usage: 140.6+ KB\n"
     ]
    }
   ],
   "source": [
    "professionals_df.id = professionals_df.id.astype('int64')\n",
    "professionals_df.experience = professionals_df.experience.astype('int64')\n",
    "professionals_df.info()"
   ]
  },
  {
   "attachments": {},
   "cell_type": "markdown",
   "metadata": {},
   "source": [
    "Let us now investigate the data types of the jobs variables"
   ]
  },
  {
   "cell_type": "code",
   "execution_count": 25,
   "metadata": {},
   "outputs": [
    {
     "name": "stdout",
     "output_type": "stream",
     "text": [
      "<class 'pandas.core.frame.DataFrame'>\n",
      "Int64Index: 500 entries, 0 to 499\n",
      "Data columns (total 8 columns):\n",
      " #   Column                  Non-Null Count  Dtype \n",
      "---  ------                  --------------  ----- \n",
      " 0   id                      500 non-null    object\n",
      " 1   skills                  500 non-null    object\n",
      " 2   location                500 non-null    object\n",
      " 3   certification_required  500 non-null    object\n",
      " 4   education_required      500 non-null    object\n",
      " 5   skill_level_required    500 non-null    object\n",
      " 6   work_preference         500 non-null    object\n",
      " 7   experience_required     500 non-null    object\n",
      "dtypes: object(8)\n",
      "memory usage: 35.2+ KB\n"
     ]
    }
   ],
   "source": [
    "jobs_df.info()"
   ]
  },
  {
   "attachments": {},
   "cell_type": "markdown",
   "metadata": {},
   "source": [
    "Similarly, we need the experience and the id to be integers "
   ]
  },
  {
   "cell_type": "code",
   "execution_count": 27,
   "metadata": {},
   "outputs": [
    {
     "name": "stdout",
     "output_type": "stream",
     "text": [
      "<class 'pandas.core.frame.DataFrame'>\n",
      "Int64Index: 500 entries, 0 to 499\n",
      "Data columns (total 8 columns):\n",
      " #   Column                  Non-Null Count  Dtype \n",
      "---  ------                  --------------  ----- \n",
      " 0   id                      500 non-null    int64 \n",
      " 1   skills                  500 non-null    object\n",
      " 2   location                500 non-null    object\n",
      " 3   certification_required  500 non-null    object\n",
      " 4   education_required      500 non-null    object\n",
      " 5   skill_level_required    500 non-null    object\n",
      " 6   work_preference         500 non-null    object\n",
      " 7   experience_required     500 non-null    int64 \n",
      "dtypes: int64(2), object(6)\n",
      "memory usage: 35.2+ KB\n"
     ]
    }
   ],
   "source": [
    "jobs_df.id = jobs_df.id.astype('int64')\n",
    "jobs_df.experience_required = jobs_df.experience_required.astype('int64')\n",
    "jobs_df.info()"
   ]
  },
  {
   "attachments": {},
   "cell_type": "markdown",
   "metadata": {},
   "source": [
    "### Feature Engineering\n",
    "We will perform similarity matching to match the healthcare professionals to job opportunities based on the similarity of their skills and experience"
   ]
  },
  {
   "cell_type": "code",
   "execution_count": 28,
   "metadata": {},
   "outputs": [
    {
     "data": {
      "text/html": [
       "<div>\n",
       "<style scoped>\n",
       "    .dataframe tbody tr th:only-of-type {\n",
       "        vertical-align: middle;\n",
       "    }\n",
       "\n",
       "    .dataframe tbody tr th {\n",
       "        vertical-align: top;\n",
       "    }\n",
       "\n",
       "    .dataframe thead th {\n",
       "        text-align: right;\n",
       "    }\n",
       "</style>\n",
       "<table border=\"1\" class=\"dataframe\">\n",
       "  <thead>\n",
       "    <tr style=\"text-align: right;\">\n",
       "      <th></th>\n",
       "      <th>id</th>\n",
       "      <th>skills</th>\n",
       "      <th>location</th>\n",
       "      <th>certification_required</th>\n",
       "      <th>education_required</th>\n",
       "      <th>skill_level_required</th>\n",
       "      <th>work_preference</th>\n",
       "      <th>experience_required</th>\n",
       "    </tr>\n",
       "  </thead>\n",
       "  <tbody>\n",
       "    <tr>\n",
       "      <th>182</th>\n",
       "      <td>183</td>\n",
       "      <td>nursing</td>\n",
       "      <td>New York</td>\n",
       "      <td>ACLS CPR</td>\n",
       "      <td>Doctorate</td>\n",
       "      <td>entry-level</td>\n",
       "      <td>day shift</td>\n",
       "      <td>19</td>\n",
       "    </tr>\n",
       "    <tr>\n",
       "      <th>191</th>\n",
       "      <td>192</td>\n",
       "      <td>nursing</td>\n",
       "      <td>Chicago</td>\n",
       "      <td>PALS</td>\n",
       "      <td>Doctorate</td>\n",
       "      <td>advanced</td>\n",
       "      <td>part-time</td>\n",
       "      <td>30</td>\n",
       "    </tr>\n",
       "    <tr>\n",
       "      <th>444</th>\n",
       "      <td>445</td>\n",
       "      <td>nursing</td>\n",
       "      <td>Philadelphia</td>\n",
       "      <td>PALS</td>\n",
       "      <td>Doctorate</td>\n",
       "      <td>advanced</td>\n",
       "      <td>full-time</td>\n",
       "      <td>28</td>\n",
       "    </tr>\n",
       "    <tr>\n",
       "      <th>369</th>\n",
       "      <td>370</td>\n",
       "      <td>nursing</td>\n",
       "      <td>Philadelphia</td>\n",
       "      <td>NRP</td>\n",
       "      <td>Doctorate</td>\n",
       "      <td>entry-level</td>\n",
       "      <td>night shift</td>\n",
       "      <td>29</td>\n",
       "    </tr>\n",
       "  </tbody>\n",
       "</table>\n",
       "</div>"
      ],
      "text/plain": [
       "      id   skills      location certification_required education_required  \\\n",
       "182  183  nursing      New York               ACLS CPR          Doctorate   \n",
       "191  192  nursing       Chicago                   PALS          Doctorate   \n",
       "444  445  nursing  Philadelphia                   PALS          Doctorate   \n",
       "369  370  nursing  Philadelphia                    NRP          Doctorate   \n",
       "\n",
       "    skill_level_required work_preference  experience_required  \n",
       "182          entry-level       day shift                   19  \n",
       "191             advanced       part-time                   30  \n",
       "444             advanced       full-time                   28  \n",
       "369          entry-level     night shift                   29  "
      ]
     },
     "execution_count": 28,
     "metadata": {},
     "output_type": "execute_result"
    }
   ],
   "source": [
    "jobs_df.sample(4)"
   ]
  },
  {
   "cell_type": "code",
   "execution_count": 29,
   "metadata": {},
   "outputs": [
    {
     "data": {
      "text/html": [
       "<div>\n",
       "<style scoped>\n",
       "    .dataframe tbody tr th:only-of-type {\n",
       "        vertical-align: middle;\n",
       "    }\n",
       "\n",
       "    .dataframe tbody tr th {\n",
       "        vertical-align: top;\n",
       "    }\n",
       "\n",
       "    .dataframe thead th {\n",
       "        text-align: right;\n",
       "    }\n",
       "</style>\n",
       "<table border=\"1\" class=\"dataframe\">\n",
       "  <thead>\n",
       "    <tr style=\"text-align: right;\">\n",
       "      <th></th>\n",
       "      <th>id</th>\n",
       "      <th>skills</th>\n",
       "      <th>location</th>\n",
       "      <th>certification</th>\n",
       "      <th>education</th>\n",
       "      <th>skill_level</th>\n",
       "      <th>work_preference</th>\n",
       "      <th>experience</th>\n",
       "    </tr>\n",
       "  </thead>\n",
       "  <tbody>\n",
       "    <tr>\n",
       "      <th>1008</th>\n",
       "      <td>1009</td>\n",
       "      <td>nursing</td>\n",
       "      <td>Los Angeles</td>\n",
       "      <td>NRP BLS CPR</td>\n",
       "      <td>Doctorate</td>\n",
       "      <td>intermediate</td>\n",
       "      <td>part-time</td>\n",
       "      <td>10</td>\n",
       "    </tr>\n",
       "    <tr>\n",
       "      <th>425</th>\n",
       "      <td>426</td>\n",
       "      <td>nursing</td>\n",
       "      <td>Philadelphia</td>\n",
       "      <td>NRP CPR ACLS PALS BLS</td>\n",
       "      <td>Doctorate</td>\n",
       "      <td>advanced</td>\n",
       "      <td>night shift</td>\n",
       "      <td>24</td>\n",
       "    </tr>\n",
       "    <tr>\n",
       "      <th>1568</th>\n",
       "      <td>1569</td>\n",
       "      <td>nursing</td>\n",
       "      <td>Los Angeles</td>\n",
       "      <td>NRP ACLS CPR</td>\n",
       "      <td>Doctorate</td>\n",
       "      <td>entry-level</td>\n",
       "      <td>full-time</td>\n",
       "      <td>13</td>\n",
       "    </tr>\n",
       "    <tr>\n",
       "      <th>1074</th>\n",
       "      <td>1075</td>\n",
       "      <td>nursing</td>\n",
       "      <td>New York</td>\n",
       "      <td>PALS</td>\n",
       "      <td>Doctorate</td>\n",
       "      <td>intermediate</td>\n",
       "      <td>full-time</td>\n",
       "      <td>13</td>\n",
       "    </tr>\n",
       "  </tbody>\n",
       "</table>\n",
       "</div>"
      ],
      "text/plain": [
       "        id   skills      location          certification  education  \\\n",
       "1008  1009  nursing   Los Angeles            NRP BLS CPR  Doctorate   \n",
       "425    426  nursing  Philadelphia  NRP CPR ACLS PALS BLS  Doctorate   \n",
       "1568  1569  nursing   Los Angeles           NRP ACLS CPR  Doctorate   \n",
       "1074  1075  nursing      New York                   PALS  Doctorate   \n",
       "\n",
       "       skill_level work_preference  experience  \n",
       "1008  intermediate       part-time          10  \n",
       "425       advanced     night shift          24  \n",
       "1568   entry-level       full-time          13  \n",
       "1074  intermediate       full-time          13  "
      ]
     },
     "execution_count": 29,
     "metadata": {},
     "output_type": "execute_result"
    }
   ],
   "source": [
    "professionals_df.sample(4)"
   ]
  },
  {
   "attachments": {},
   "cell_type": "markdown",
   "metadata": {},
   "source": [
    "We will match the two dataframes based on the skills variable"
   ]
  },
  {
   "cell_type": "code",
   "execution_count": 30,
   "metadata": {},
   "outputs": [
    {
     "data": {
      "text/html": [
       "<div>\n",
       "<style scoped>\n",
       "    .dataframe tbody tr th:only-of-type {\n",
       "        vertical-align: middle;\n",
       "    }\n",
       "\n",
       "    .dataframe tbody tr th {\n",
       "        vertical-align: top;\n",
       "    }\n",
       "\n",
       "    .dataframe thead th {\n",
       "        text-align: right;\n",
       "    }\n",
       "</style>\n",
       "<table border=\"1\" class=\"dataframe\">\n",
       "  <thead>\n",
       "    <tr style=\"text-align: right;\">\n",
       "      <th></th>\n",
       "      <th>id_pro</th>\n",
       "      <th>skills</th>\n",
       "      <th>location_pro</th>\n",
       "      <th>certification</th>\n",
       "      <th>education</th>\n",
       "      <th>skill_level</th>\n",
       "      <th>work_preference_pro</th>\n",
       "      <th>experience</th>\n",
       "      <th>id_job</th>\n",
       "      <th>location_job</th>\n",
       "      <th>certification_required</th>\n",
       "      <th>education_required</th>\n",
       "      <th>skill_level_required</th>\n",
       "      <th>work_preference_job</th>\n",
       "      <th>experience_required</th>\n",
       "    </tr>\n",
       "  </thead>\n",
       "  <tbody>\n",
       "    <tr>\n",
       "      <th>367631</th>\n",
       "      <td>736</td>\n",
       "      <td>nursing</td>\n",
       "      <td>Los Angeles</td>\n",
       "      <td>PALS</td>\n",
       "      <td>Doctorate</td>\n",
       "      <td>intermediate</td>\n",
       "      <td>part-time</td>\n",
       "      <td>24</td>\n",
       "      <td>132</td>\n",
       "      <td>Philadelphia</td>\n",
       "      <td>PALS CPR ACLS</td>\n",
       "      <td>Doctorate</td>\n",
       "      <td>entry-level</td>\n",
       "      <td>part-time</td>\n",
       "      <td>2</td>\n",
       "    </tr>\n",
       "    <tr>\n",
       "      <th>623763</th>\n",
       "      <td>1248</td>\n",
       "      <td>nursing</td>\n",
       "      <td>New York</td>\n",
       "      <td>BLS NRP CPR ACLS PALS</td>\n",
       "      <td>Doctorate</td>\n",
       "      <td>advanced</td>\n",
       "      <td>day shift</td>\n",
       "      <td>11</td>\n",
       "      <td>264</td>\n",
       "      <td>Los Angeles</td>\n",
       "      <td>BLS ACLS PALS</td>\n",
       "      <td>Doctorate</td>\n",
       "      <td>entry-level</td>\n",
       "      <td>day shift</td>\n",
       "      <td>20</td>\n",
       "    </tr>\n",
       "    <tr>\n",
       "      <th>957492</th>\n",
       "      <td>1915</td>\n",
       "      <td>nursing</td>\n",
       "      <td>Houston</td>\n",
       "      <td>PALS CPR ACLS BLS</td>\n",
       "      <td>Doctorate</td>\n",
       "      <td>intermediate</td>\n",
       "      <td>day shift</td>\n",
       "      <td>17</td>\n",
       "      <td>493</td>\n",
       "      <td>New York</td>\n",
       "      <td>CPR NRP BLS</td>\n",
       "      <td>Doctorate</td>\n",
       "      <td>advanced</td>\n",
       "      <td>full-time</td>\n",
       "      <td>24</td>\n",
       "    </tr>\n",
       "    <tr>\n",
       "      <th>977894</th>\n",
       "      <td>1956</td>\n",
       "      <td>nursing</td>\n",
       "      <td>New York</td>\n",
       "      <td>NRP PALS CPR BLS</td>\n",
       "      <td>Doctorate</td>\n",
       "      <td>intermediate</td>\n",
       "      <td>day shift</td>\n",
       "      <td>8</td>\n",
       "      <td>395</td>\n",
       "      <td>Philadelphia</td>\n",
       "      <td>ACLS NRP PALS</td>\n",
       "      <td>Doctorate</td>\n",
       "      <td>entry-level</td>\n",
       "      <td>part-time</td>\n",
       "      <td>26</td>\n",
       "    </tr>\n",
       "  </tbody>\n",
       "</table>\n",
       "</div>"
      ],
      "text/plain": [
       "        id_pro   skills location_pro          certification  education  \\\n",
       "367631     736  nursing  Los Angeles                   PALS  Doctorate   \n",
       "623763    1248  nursing     New York  BLS NRP CPR ACLS PALS  Doctorate   \n",
       "957492    1915  nursing      Houston      PALS CPR ACLS BLS  Doctorate   \n",
       "977894    1956  nursing     New York       NRP PALS CPR BLS  Doctorate   \n",
       "\n",
       "         skill_level work_preference_pro  experience  id_job  location_job  \\\n",
       "367631  intermediate           part-time          24     132  Philadelphia   \n",
       "623763      advanced           day shift          11     264   Los Angeles   \n",
       "957492  intermediate           day shift          17     493      New York   \n",
       "977894  intermediate           day shift           8     395  Philadelphia   \n",
       "\n",
       "       certification_required education_required skill_level_required  \\\n",
       "367631          PALS CPR ACLS          Doctorate          entry-level   \n",
       "623763          BLS ACLS PALS          Doctorate          entry-level   \n",
       "957492            CPR NRP BLS          Doctorate             advanced   \n",
       "977894          ACLS NRP PALS          Doctorate          entry-level   \n",
       "\n",
       "       work_preference_job  experience_required  \n",
       "367631           part-time                    2  \n",
       "623763           day shift                   20  \n",
       "957492           full-time                   24  \n",
       "977894           part-time                   26  "
      ]
     },
     "execution_count": 30,
     "metadata": {},
     "output_type": "execute_result"
    }
   ],
   "source": [
    "merged_df = pd.merge(professionals_df, jobs_df, on='skills', how='inner', suffixes=('_pro', '_job'))\n",
    "merged_df.sample(4)"
   ]
  },
  {
   "attachments": {},
   "cell_type": "markdown",
   "metadata": {},
   "source": [
    "We have 15 different variables and a million rows"
   ]
  },
  {
   "cell_type": "code",
   "execution_count": 31,
   "metadata": {},
   "outputs": [
    {
     "name": "stdout",
     "output_type": "stream",
     "text": [
      "<class 'pandas.core.frame.DataFrame'>\n",
      "Int64Index: 1000000 entries, 0 to 999999\n",
      "Data columns (total 15 columns):\n",
      " #   Column                  Non-Null Count    Dtype \n",
      "---  ------                  --------------    ----- \n",
      " 0   id_pro                  1000000 non-null  int64 \n",
      " 1   skills                  1000000 non-null  object\n",
      " 2   location_pro            1000000 non-null  object\n",
      " 3   certification           1000000 non-null  object\n",
      " 4   education               1000000 non-null  object\n",
      " 5   skill_level             1000000 non-null  object\n",
      " 6   work_preference_pro     1000000 non-null  object\n",
      " 7   experience              1000000 non-null  int64 \n",
      " 8   id_job                  1000000 non-null  int64 \n",
      " 9   location_job            1000000 non-null  object\n",
      " 10  certification_required  1000000 non-null  object\n",
      " 11  education_required      1000000 non-null  object\n",
      " 12  skill_level_required    1000000 non-null  object\n",
      " 13  work_preference_job     1000000 non-null  object\n",
      " 14  experience_required     1000000 non-null  int64 \n",
      "dtypes: int64(4), object(11)\n",
      "memory usage: 122.1+ MB\n"
     ]
    },
    {
     "data": {
      "text/plain": [
       "((1000000, 15), None)"
      ]
     },
     "execution_count": 31,
     "metadata": {},
     "output_type": "execute_result"
    }
   ],
   "source": [
    "merged_df.shape, merged_df.info()"
   ]
  },
  {
   "attachments": {},
   "cell_type": "markdown",
   "metadata": {},
   "source": [
    "### User-item Matrix\n",
    "We will create a user-item matrix. But before then, we will have to perform some encoding operations on some of out variables since the user-item matrix is essentially a matrix of numerical values. \n",
    "In our case, we will perform one-hot encoding on columns like skill, location_pro, certification, education, skill_level, and work_preference_pro columns."
   ]
  },
  {
   "cell_type": "code",
   "execution_count": 32,
   "metadata": {},
   "outputs": [],
   "source": [
    "from sklearn.preprocessing import LabelEncoder"
   ]
  },
  {
   "cell_type": "code",
   "execution_count": null,
   "metadata": {},
   "outputs": [],
   "source": []
  }
 ],
 "metadata": {
  "kernelspec": {
   "display_name": "base",
   "language": "python",
   "name": "python3"
  },
  "language_info": {
   "codemirror_mode": {
    "name": "ipython",
    "version": 3
   },
   "file_extension": ".py",
   "mimetype": "text/x-python",
   "name": "python",
   "nbconvert_exporter": "python",
   "pygments_lexer": "ipython3",
   "version": "3.9.13"
  },
  "orig_nbformat": 4,
  "vscode": {
   "interpreter": {
    "hash": "15d28d32564fbcc9e073c49bf46ba5370e6b778e759c49730ff93c5630f6135d"
   }
  }
 },
 "nbformat": 4,
 "nbformat_minor": 2
}
